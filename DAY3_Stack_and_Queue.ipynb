{
  "cells": [
    {
      "cell_type": "markdown",
      "metadata": {
        "id": "view-in-github",
        "colab_type": "text"
      },
      "source": [
        "<a href=\"https://colab.research.google.com/github/VishalSingh1703/Placement_Training/blob/main/DAY3_Stack_and_Queue.ipynb\" target=\"_parent\"><img src=\"https://colab.research.google.com/assets/colab-badge.svg\" alt=\"Open In Colab\"/></a>"
      ]
    },
    {
      "cell_type": "markdown",
      "metadata": {
        "id": "SMO4Btws63X5"
      },
      "source": [
        "Implement Stack using 2 Queues"
      ]
    },
    {
      "cell_type": "code",
      "execution_count": null,
      "metadata": {
        "colab": {
          "base_uri": "https://localhost:8080/"
        },
        "id": "EoVyP38jz32N",
        "outputId": "faa47fb3-ed36-4e7d-a72c-a25dc9cffead"
      },
      "outputs": [
        {
          "name": "stdout",
          "output_type": "stream",
          "text": [
            "5\n",
            "4\n",
            "3\n",
            "False\n",
            "2\n",
            "1\n",
            "None\n"
          ]
        }
      ],
      "source": [
        "from collections import deque\n",
        "\n",
        "class MyStack:\n",
        "  def __init__(self):\n",
        "    self.q1 = deque()\n",
        "    self.q2 = deque()\n",
        "\n",
        "  def push(self, x):\n",
        "    self.q2.append(x)\n",
        "    while self.q1:\n",
        "      self.q2.append(self.q1.popleft())\n",
        "    self.q1, self.q2 = self.q2, self.q1\n",
        "\n",
        "  def pop(self):\n",
        "    if not self.q1:\n",
        "      return None\n",
        "    self.q1.popleft()\n",
        "\n",
        "  def top(self):\n",
        "    if not self.q1: return None\n",
        "    return self.q1[0]\n",
        "\n",
        "  def size(self):\n",
        "    return len(self.q1)\n",
        "\n",
        "  def empty(self):\n",
        "    return not self.q1 and not self.q2\n",
        "\n",
        "\n",
        "stack = MyStack()\n",
        "stack.push(1)\n",
        "stack.push(2)\n",
        "stack.push(3)\n",
        "stack.push(4)\n",
        "stack.push(5)\n",
        "\n",
        "print(stack.top())\n",
        "\n",
        "stack.pop()\n",
        "print(stack.top())\n",
        "stack.pop()\n",
        "print(stack.top())\n",
        "stack.pop()\n",
        "\n",
        "print(stack.empty())\n",
        "print(stack.top())\n",
        "stack.pop()\n",
        "print(stack.top())\n",
        "\n",
        "stack.pop()\n",
        "print(stack.top())\n"
      ]
    },
    {
      "cell_type": "markdown",
      "metadata": {
        "id": "9RiwJpf99GAC"
      },
      "source": [
        "Implement Queue using 2 Stacks"
      ]
    },
    {
      "cell_type": "code",
      "execution_count": 12,
      "metadata": {
        "colab": {
          "base_uri": "https://localhost:8080/"
        },
        "id": "l7boO7119FNh",
        "outputId": "4cb6d820-0467-4258-d64e-34d71901ef38"
      },
      "outputs": [
        {
          "output_type": "stream",
          "name": "stdout",
          "text": [
            "Front of the queue: 1\n",
            "Front of the queue: 2\n",
            "Front of the queue: 3\n",
            "Size of the Queue: 2\n",
            "Is the Queue empty? False\n",
            "Front of the queue: 4\n",
            "Front of the queue: 5\n",
            "Is the Queue empty? True\n"
          ]
        }
      ],
      "source": [
        "class MyQueue:\n",
        "  def __init__(self):\n",
        "    self.s1 = []\n",
        "    self.s2 = []\n",
        "\n",
        "  def nq(self, x):\n",
        "    self.s1.append(x)\n",
        "\n",
        "  def dq(self):\n",
        "    if not self.s1:\n",
        "      if not self.s2:\n",
        "        return None\n",
        "\n",
        "      while self.s1:\n",
        "        self.s2.append(self.s1.pop())\n",
        "\n",
        "    return self.s2.pop() if self.s2 else None\n",
        "\n",
        "  def front(self):\n",
        "    if not self.s2:\n",
        "      if not self.s1:\n",
        "        return None\n",
        "\n",
        "      while self.s1:\n",
        "        self.s2.append(self.s1.pop())\n",
        "\n",
        "    return self.s2[-1] if self.s2 else None\n",
        "\n",
        "  def size(self):\n",
        "    return len(self.s1) + len(self.s2)\n",
        "\n",
        "  def empty(self):\n",
        "    return not self.s1 and not self.s2\n",
        "\n",
        "\n",
        "q = MyQueue()\n",
        "q.nq(1)\n",
        "q.nq(2)\n",
        "q.nq(3)\n",
        "q.nq(4)\n",
        "q.nq(5)\n",
        "\n",
        "print('Front of the queue: ' + str(q.front()))\n",
        "q.dq()\n",
        "print('Front of the queue: ' + str(q.front()))\n",
        "q.dq()\n",
        "print('Front of the queue: ' + str(q.front()))\n",
        "q.dq()\n",
        "print('Size of the Queue: ' + str(q.size()))\n",
        "print('Is the Queue empty? ' + str(q.empty()))\n",
        "print('Front of the queue: ' + str(q.front()))\n",
        "q.dq()\n",
        "print('Front of the queue: ' + str(q.front()))\n",
        "q.dq()\n",
        "print('Is the Queue empty? ' + str(q.empty()))"
      ]
    },
    {
      "cell_type": "markdown",
      "source": [
        "Convert Infix expression to Postfix using Stack"
      ],
      "metadata": {
        "id": "2OOLpfmmEhEh"
      }
    },
    {
      "cell_type": "code",
      "source": [
        "class ITPC:\n",
        "  def __init__(self):\n",
        "    self.stack = []\n",
        "    self.pre = {'+': 1, '-': 1, '*': 2, '/': 2, '^': 3}\n",
        "\n",
        "  def isOp(self, c):\n",
        "    return c in self.pre\n",
        "\n",
        "  def isGreater(self, op1, op2):\n",
        "        if op1 not in self.pre or op2 not in self.pre:\n",
        "            return False\n",
        "        return self.pre[op1] > self.pre[op2]\n",
        "\n",
        "  def itp(self, inf):\n",
        "        pos = \"\"\n",
        "        for char in inf:\n",
        "            if char.isalnum():\n",
        "                pos += char\n",
        "            elif char == '(':\n",
        "                self.stack.append(char)\n",
        "            elif char == ')':\n",
        "                while self.stack and self.stack[-1] != '(':\n",
        "                    pos += self.stack.pop()\n",
        "                self.stack.pop()\n",
        "            else:\n",
        "                while self.stack and self.stack[-1] != '(' and self.isGreater(self.stack[-1], char):\n",
        "                    pos += self.stack.pop()\n",
        "                self.stack.append(char)\n",
        "\n",
        "        while self.stack:\n",
        "            pos += self.stack.pop()\n",
        "\n",
        "        return pos\n",
        "\n",
        "con = ITPC()\n",
        "inf = \"a + b * (c ^ d - e) / f\"\n",
        "pos = con.itp(inf)\n",
        "print(inf)\n",
        "print(pos)"
      ],
      "metadata": {
        "colab": {
          "base_uri": "https://localhost:8080/"
        },
        "id": "0phNLJE5EgOv",
        "outputId": "e23ac53e-7f6f-4bda-dac0-9a904f5acdde"
      },
      "execution_count": 23,
      "outputs": [
        {
          "output_type": "stream",
          "name": "stdout",
          "text": [
            "a + b * (c ^ d - e) / f\n",
            "abcde -  ^ f /  *  + \n"
          ]
        }
      ]
    },
    {
      "cell_type": "markdown",
      "source": [
        "Postfix evaluation"
      ],
      "metadata": {
        "id": "9XAx2MxINJCv"
      }
    },
    {
      "cell_type": "code",
      "source": [
        "class PE:\n",
        "  def __init__(self):\n",
        "    self.stack = []\n",
        "\n",
        "  def perf(self, op1, op2, oper):\n",
        "    if oper == '+':\n",
        "      return op1 + op2\n",
        "    elif oper == '-':\n",
        "      return op1 - op2\n",
        "    elif oper == '*':\n",
        "      return op1 * op2\n",
        "    elif oper == '/':\n",
        "      return op1 / op2\n",
        "    elif oper == '^':\n",
        "      return op1 ** op2\n",
        "\n",
        "  def evalPost(self, pos):\n",
        "    for char in pos:\n",
        "      if char.isalnum():\n",
        "        self.stack.append(int(char))\n",
        "      else:\n",
        "        op2 = self.stack.pop()\n",
        "        op1 = self.stack.pop()\n",
        "        res = self.perf(op1, op2, char)\n",
        "        self.stack.append(res)\n",
        "\n",
        "    return self.stack.pop()\n",
        "\n",
        "eva = PE()\n",
        "pos = \"231*+9-\"\n",
        "result = eva.evalPost(pos)\n",
        "print(\"Postfix Expression:\", pos)\n",
        "print(\"Result:\", result)"
      ],
      "metadata": {
        "colab": {
          "base_uri": "https://localhost:8080/"
        },
        "id": "_vCKrkqsNGcM",
        "outputId": "9c752fba-c0ab-420d-dbd8-e347566f833d"
      },
      "execution_count": 27,
      "outputs": [
        {
          "output_type": "stream",
          "name": "stdout",
          "text": [
            "Postfix Expression: 231*+9-\n",
            "Result: -4\n"
          ]
        }
      ]
    },
    {
      "cell_type": "markdown",
      "source": [
        "Infix Evaluation"
      ],
      "metadata": {
        "id": "28npn85ET6Qb"
      }
    },
    {
      "cell_type": "code",
      "source": [
        "class InfixEvaluator:\n",
        "    def __init__(self):\n",
        "        self.operator_precedence = {'+': 1, '-': 1, '*': 2, '/': 2, '^': 3}\n",
        "        self.operators = set(self.operator_precedence.keys())\n",
        "        self.stack = []\n",
        "\n",
        "    def is_operand(self, char):\n",
        "        return char.isalnum()\n",
        "\n",
        "    def infix_to_postfix(self, infix_expression):\n",
        "        postfix_expression = \"\"\n",
        "        for char in infix_expression:\n",
        "            if self.is_operand(char):\n",
        "                postfix_expression += char\n",
        "            elif char == '(':\n",
        "                self.stack.append(char)\n",
        "            elif char == ')':\n",
        "                while self.stack and self.stack[-1] != '(':\n",
        "                    postfix_expression += self.stack.pop()\n",
        "                self.stack.pop()  # Discard the '('\n",
        "            elif char in self.operators:\n",
        "                while self.stack and self.stack[-1] != '(' and self.operator_precedence[self.stack[-1]] >= self.operator_precedence[char]:\n",
        "                    postfix_expression += self.stack.pop()\n",
        "                self.stack.append(char)\n",
        "\n",
        "        while self.stack:\n",
        "            postfix_expression += self.stack.pop()\n",
        "\n",
        "        return postfix_expression\n",
        "\n",
        "    def evaluate_infix(self, infix_expression):\n",
        "        postfix_expression = self.infix_to_postfix(infix_expression)\n",
        "        return self.evaluate_postfix(postfix_expression)\n",
        "\n",
        "    def evaluate_postfix(self, postfix_expression):\n",
        "        for char in postfix_expression:\n",
        "            if self.is_operand(char):\n",
        "                self.stack.append(int(char))\n",
        "            elif char in self.operators:\n",
        "                operand2 = self.stack.pop()\n",
        "                operand1 = self.stack.pop()\n",
        "                result = self.perform_operation(operand1, operand2, char)\n",
        "                self.stack.append(result)\n",
        "\n",
        "        return self.stack.pop()\n",
        "\n",
        "    def perform_operation(self, operand1, operand2, operator):\n",
        "        if operator == '+':\n",
        "            return operand1 + operand2\n",
        "        elif operator == '-':\n",
        "            return operand1 - operand2\n",
        "        elif operator == '*':\n",
        "            return operand1 * operand2\n",
        "        elif operator == '/':\n",
        "            return operand1 / operand2\n",
        "        elif operator == '^':\n",
        "            return operand1 ** operand2\n",
        "\n",
        "# Example usage:\n",
        "evaluator = InfixEvaluator()\n",
        "infix_expression = \"3 + 5 * ( 2 - 8 ) / 2\"\n",
        "result = evaluator.evaluate_infix(infix_expression)\n",
        "print(\"Infix Expression:\", infix_expression)\n",
        "print(\"Result:\", result)"
      ],
      "metadata": {
        "colab": {
          "base_uri": "https://localhost:8080/"
        },
        "id": "E2fACQ7QT5h-",
        "outputId": "111245b0-da71-4dea-e531-e19b33099d12"
      },
      "execution_count": 39,
      "outputs": [
        {
          "output_type": "stream",
          "name": "stdout",
          "text": [
            "Infix Expression: 3 + 5 * ( 2 - 8 ) / 2\n",
            "Result: -12.0\n"
          ]
        }
      ]
    }
  ],
  "metadata": {
    "colab": {
      "provenance": [],
      "authorship_tag": "ABX9TyOzwJQQVT1nGIYsoIe2Cq/p",
      "include_colab_link": true
    },
    "kernelspec": {
      "display_name": "Python 3",
      "name": "python3"
    },
    "language_info": {
      "name": "python"
    }
  },
  "nbformat": 4,
  "nbformat_minor": 0
}