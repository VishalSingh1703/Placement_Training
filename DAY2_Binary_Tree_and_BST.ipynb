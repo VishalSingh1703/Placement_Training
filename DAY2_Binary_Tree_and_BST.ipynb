{
  "nbformat": 4,
  "nbformat_minor": 0,
  "metadata": {
    "colab": {
      "provenance": [],
      "authorship_tag": "ABX9TyNilMxYxN8wtnMJeIh14Bak",
      "include_colab_link": true
    },
    "kernelspec": {
      "name": "python3",
      "display_name": "Python 3"
    },
    "language_info": {
      "name": "python"
    }
  },
  "cells": [
    {
      "cell_type": "markdown",
      "metadata": {
        "id": "view-in-github",
        "colab_type": "text"
      },
      "source": [
        "<a href=\"https://colab.research.google.com/github/VishalSingh1703/Placement_Training/blob/main/Binary_Tree_and_BST.ipynb\" target=\"_parent\"><img src=\"https://colab.research.google.com/assets/colab-badge.svg\" alt=\"Open In Colab\"/></a>"
      ]
    },
    {
      "cell_type": "code",
      "source": [
        "from collections import deque"
      ],
      "metadata": {
        "id": "Px4IKhmQ1n1J"
      },
      "execution_count": 32,
      "outputs": []
    },
    {
      "cell_type": "code",
      "execution_count": 3,
      "metadata": {
        "id": "42aeIBsGfEi6"
      },
      "outputs": [],
      "source": [
        "class Node:\n",
        "  def __init__(self, data):\n",
        "    self.data  = data\n",
        "    self.left  = None\n",
        "    self.right = None"
      ]
    },
    {
      "cell_type": "markdown",
      "source": [
        "Build Tree Preorder, Inorder, Postorder, Level order Traversals"
      ],
      "metadata": {
        "id": "7pUFTdYDz2zF"
      }
    },
    {
      "cell_type": "code",
      "source": [
        "class BinaryTree:\n",
        "  def __init__(self):\n",
        "        self.idx = -1\n",
        "        self.root = None\n",
        "\n",
        "  def build_tree(self, nodes):\n",
        "      self.idx += 1\n",
        "      if self.idx >= len(nodes) or nodes[self.idx] == -1:\n",
        "          return None\n",
        "      new_node = Node(nodes[self.idx])\n",
        "      new_node.left = self.build_tree(nodes)\n",
        "      new_node.right = self.build_tree(nodes)\n",
        "      return new_node\n",
        "\n",
        "  def preorder(self, node):\n",
        "    if node is None:\n",
        "      return\n",
        "    print(node.data, end = \" \")\n",
        "    self.preorder(node.left)\n",
        "    self.preorder(node.right)\n",
        "\n",
        "  def inorder(self, node):\n",
        "    if node is None:\n",
        "      return\n",
        "    self.inorder(node.left)\n",
        "    print(node.data, end = \" \")\n",
        "    self.inorder(node.right)\n",
        "\n",
        "  def postorder(self, node):\n",
        "    if node is None:\n",
        "      return\n",
        "    self.postorder(node.left)\n",
        "    self.postorder(node.right)\n",
        "    print(node.data, end = \" \")\n",
        "\n",
        "  def levelOrder(self, node):\n",
        "    if node is None:\n",
        "      return\n",
        "\n",
        "    result = []\n",
        "    queue = deque([node])\n",
        "\n",
        "    while(queue):\n",
        "      top = queue.popleft()\n",
        "      result.append(top)\n",
        "      if top.left:\n",
        "        queue.append(top.left)\n",
        "      if top.right:\n",
        "        queue.append(top.right)\n",
        "\n",
        "    return result\n",
        "\n",
        ""
      ],
      "metadata": {
        "id": "_Rfjd_1wvkBW"
      },
      "execution_count": 33,
      "outputs": []
    },
    {
      "cell_type": "code",
      "source": [
        "if __name__ == \"__main__\":\n",
        "  nodes = [1, 2, 4, -1, -1, 5, -1, -1, 3, -1, 6, -1, -1]\n",
        "  tree = BinaryTree()\n",
        "  root = tree.build_tree(nodes)\n",
        "  tree.preorder(root)\n",
        "  print()\n",
        "  tree.inorder(root)\n",
        "  print()\n",
        "  tree.postorder(root)\n",
        "  print()\n",
        "  print(tree.levelOrder(root))"
      ],
      "metadata": {
        "colab": {
          "base_uri": "https://localhost:8080/"
        },
        "id": "jAp1YKXBxEjT",
        "outputId": "cc2ebf0a-5e06-45bc-c265-f4896ca6c292"
      },
      "execution_count": 34,
      "outputs": [
        {
          "output_type": "stream",
          "name": "stdout",
          "text": [
            "1 2 4 5 3 6 \n",
            "4 2 5 1 3 6 \n",
            "4 5 2 6 3 1 \n",
            "[<__main__.Node object at 0x7bb00c9110c0>, <__main__.Node object at 0x7bb00c9132e0>, <__main__.Node object at 0x7bb00c911810>, <__main__.Node object at 0x7bb00c912440>, <__main__.Node object at 0x7bb00c911a20>, <__main__.Node object at 0x7bb00c912c50>]\n"
          ]
        }
      ]
    },
    {
      "cell_type": "markdown",
      "source": [
        "Right Side View of a Binary Tree (LeetCode 199)"
      ],
      "metadata": {
        "id": "RE2IX2Dj3Tmf"
      }
    },
    {
      "cell_type": "code",
      "source": [
        "# Definition for a binary tree node.\n",
        "# class TreeNode(object):\n",
        "#     def __init__(self, val=0, left=None, right=None):\n",
        "#         self.val = val\n",
        "#         self.left = left\n",
        "#         self.right = right\n",
        "class Solution(object):\n",
        "    def solve(self, root, level, ans):\n",
        "        if root is None:\n",
        "            return\n",
        "        if(len(ans) < level):\n",
        "            ans.append(root.val)\n",
        "        self.solve(root.right, level+1, ans)\n",
        "        self.solve(root.left, level+1, ans)\n",
        "\n",
        "    def rightSideView(self, root):\n",
        "        ans = []\n",
        "        self.solve(root, 1, ans)\n",
        "        return ans"
      ],
      "metadata": {
        "id": "E40Np4r23Sm_"
      },
      "execution_count": null,
      "outputs": []
    },
    {
      "cell_type": "markdown",
      "source": [
        "Binary Tree Connect (LeetCode 116)"
      ],
      "metadata": {
        "id": "99bxqJlqAHmT"
      }
    },
    {
      "cell_type": "code",
      "source": [
        "\"\"\"\n",
        "# Definition for a Node.\n",
        "class Node(object):\n",
        "    def __init__(self, val=0, left=None, right=None, next=None):\n",
        "        self.val = val\n",
        "        self.left = left\n",
        "        self.right = right\n",
        "        self.next = next\n",
        "\"\"\"\n",
        "\n",
        "class Solution(object):\n",
        "    def connect(self, root):\n",
        "        if root is None:\n",
        "            return root\n",
        "\n",
        "        if root.left is not None:\n",
        "            root.left.next = root.right\n",
        "\n",
        "        if root.right is not None and root.next is not None:\n",
        "            root.right.next = root.next.left\n",
        "\n",
        "        self.connect(root.left)\n",
        "        self.connect(root.right)\n",
        "\n",
        "        return root\n",
        "\n",
        "\n",
        "\n",
        "# class Solution(object):\n",
        "#     def connect(self, root):\n",
        "#         if not root: return None\n",
        "#         q = deque([root])\n",
        "#         while q:\n",
        "#             rightNode = None\n",
        "#             for _ in range(len(q)):\n",
        "#                 cur = q.popleft()\n",
        "#                 cur.next, rightNode = rightNode, cur\n",
        "#                 if cur.right:\n",
        "#                     q.extend([cur.right, cur.left])\n",
        "#         return root\n",
        ""
      ],
      "metadata": {
        "id": "u8bQKbDVAGiW"
      },
      "execution_count": null,
      "outputs": []
    },
    {
      "cell_type": "markdown",
      "source": [
        "Lowest Common Ancestor (LeetCode 235)"
      ],
      "metadata": {
        "id": "13Gyadp5CeXe"
      }
    },
    {
      "cell_type": "code",
      "source": [
        "# Definition for a binary tree node.\n",
        "# class TreeNode(object):\n",
        "#     def __init__(self, x):\n",
        "#         self.val = x\n",
        "#         self.left = None\n",
        "#         self.right = None\n",
        "\n",
        "class Solution(object):\n",
        "    def lowestCommonAncestor(self, root, p, q):\n",
        "        small = min(p.val, q.val)\n",
        "        large = max(p.val, q.val)\n",
        "        while root:\n",
        "            if root.val > large:  # p, q belong to the left subtree\n",
        "                root = root.left\n",
        "            elif root.val < small:  # p, q belong to the right subtree\n",
        "                root = root.right\n",
        "            else:  # Now, small <= root.val <= large -> This is the LCA between p and q\n",
        "                return root\n",
        "        return None\n",
        "\n",
        "        # node = root\n",
        "        # while True:\n",
        "        #     if p.val > node.val and q.val < node.val:\n",
        "        #         return node\n",
        "        #     elif p.val < node.val and q.val > node.val:\n",
        "        #         return node\n",
        "        #     elif p.val == node.val or q.val == node.val:\n",
        "        #         return node\n",
        "        #     elif p.val < node.val:\n",
        "        #         node = node.left\n",
        "        #     else:\n",
        "        #         node = node.right"
      ],
      "metadata": {
        "id": "q65IKSs2CmnI"
      },
      "execution_count": null,
      "outputs": []
    },
    {
      "cell_type": "markdown",
      "source": [
        "Root to Leaf Sum (LeetCode 129)"
      ],
      "metadata": {
        "id": "uFHo4BC5JNw-"
      }
    },
    {
      "cell_type": "code",
      "source": [
        "# Definition for a binary tree node.\n",
        "# class TreeNode(object):\n",
        "#     def __init__(self, val=0, left=None, right=None):\n",
        "#         self.val = val\n",
        "#         self.left = left\n",
        "#         self.right = right\n",
        "class Solution(object):\n",
        "    def treeSum(self, node, val):\n",
        "        if node is None: return 0\n",
        "        val = val * 10 + node.val\n",
        "        if node.left is None and node.right is None: return val\n",
        "        return ( self.treeSum(node.left, val) + self.treeSum(node.right, val) )\n",
        "\n",
        "    def sumNumbers(self, root):\n",
        "        return self.treeSum(root, 0)"
      ],
      "metadata": {
        "id": "TKTrJO0ZJKzY"
      },
      "execution_count": null,
      "outputs": []
    },
    {
      "cell_type": "code",
      "source": [
        "Kth Smallest Element in a BST (LeetCode 230)"
      ],
      "metadata": {
        "id": "WjvgK7fcMfuC"
      },
      "execution_count": null,
      "outputs": []
    },
    {
      "cell_type": "code",
      "source": [
        "# Definition for a binary tree node.\n",
        "# class TreeNode(object):\n",
        "#     def __init__(self, val=0, left=None, right=None):\n",
        "#         self.val = val\n",
        "#         self.left = left\n",
        "#         self.right = right\n",
        "class Solution(object):\n",
        "    def inorder(self, node, ans):\n",
        "        if node is None: return\n",
        "\n",
        "        self.inorder(node.left, ans)\n",
        "        ans.append(node.val)\n",
        "        self.inorder(node.right, ans)\n",
        "\n",
        "    def kthSmallest(self, root, k):\n",
        "        ans = []\n",
        "        self.inorder(root, ans)\n",
        "        return ans[k-1]\n",
        ""
      ],
      "metadata": {
        "id": "L6WlbsjWMek6"
      },
      "execution_count": null,
      "outputs": []
    }
  ]
}
