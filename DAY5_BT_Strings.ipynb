{
  "nbformat": 4,
  "nbformat_minor": 0,
  "metadata": {
    "colab": {
      "provenance": [],
      "authorship_tag": "ABX9TyM1uwzyTYXnltRuEeqg2xxU",
      "include_colab_link": true
    },
    "kernelspec": {
      "name": "python3",
      "display_name": "Python 3"
    },
    "language_info": {
      "name": "python"
    }
  },
  "cells": [
    {
      "cell_type": "markdown",
      "metadata": {
        "id": "view-in-github",
        "colab_type": "text"
      },
      "source": [
        "<a href=\"https://colab.research.google.com/github/VishalSingh1703/Placement_Training/blob/main/DAY5_BT_Strings.ipynb\" target=\"_parent\"><img src=\"https://colab.research.google.com/assets/colab-badge.svg\" alt=\"Open In Colab\"/></a>"
      ]
    },
    {
      "cell_type": "code",
      "source": [
        "from collections import deque"
      ],
      "metadata": {
        "id": "NmpvhFcvw7OY"
      },
      "execution_count": null,
      "outputs": []
    },
    {
      "cell_type": "code",
      "execution_count": null,
      "metadata": {
        "colab": {
          "base_uri": "https://localhost:8080/"
        },
        "id": "Tpg7q1ZWnmYo",
        "outputId": "30e641ce-f7a7-423b-9f3b-0a116208fe24"
      },
      "outputs": [
        {
          "output_type": "stream",
          "name": "stdout",
          "text": [
            "10 20 30 40 "
          ]
        }
      ],
      "source": [
        "class Node:\n",
        "  def __init__(self, data):\n",
        "    self.data = data\n",
        "    self.next = None\n",
        "\n",
        "class LinkedList:\n",
        "  def __init__(self):\n",
        "    self.head = None\n",
        "\n",
        "  def insert(self, data):\n",
        "    newNode = Node(data)\n",
        "    if(self.head == None):\n",
        "      self.head = newNode\n",
        "      return self.head\n",
        "    temp = self.head\n",
        "\n",
        "    while temp.next!=None:\n",
        "      temp = temp.next\n",
        "    temp.next = newNode\n",
        "    return self.head\n",
        "\n",
        "  def printList(self):\n",
        "    temp = self.head\n",
        "    while(temp!=None):\n",
        "      print(temp.data, end = \" \")\n",
        "      temp = temp.next\n",
        "\n",
        "root = LinkedList()\n",
        "root.insert(10)\n",
        "root.insert(20)\n",
        "root.insert(30)\n",
        "root.insert(40)\n",
        "root.printList()"
      ]
    },
    {
      "cell_type": "markdown",
      "source": [
        "Flatten Binary tree into Linked List"
      ],
      "metadata": {
        "id": "P4S-dEjS2lTz"
      }
    },
    {
      "cell_type": "code",
      "source": [
        "class Node:\n",
        "  def __init__(self, data):\n",
        "    self.data = data\n",
        "    self.left = None\n",
        "    self.right = None\n",
        "\n",
        "class BinaryTree:\n",
        "  def __init__(self):\n",
        "    self.idx = -1\n",
        "    self.root = None\n",
        "    self.prev = None\n",
        "\n",
        "  def buildTree(self, nodes):\n",
        "    self.idx += 1\n",
        "    if self.idx >= len(nodes) or nodes[self.idx] == -1: return None\n",
        "\n",
        "    newNode = Node(nodes[self.idx])\n",
        "    newNode.left = self.buildTree(nodes)\n",
        "    newNode.right = self.buildTree(nodes)\n",
        "    return newNode\n",
        "\n",
        "  def preorder(self, node):\n",
        "    if node is None:\n",
        "      return\n",
        "    print(node.data, end = \" \")\n",
        "    self.preorder(node.left)\n",
        "    self.preorder(node.right)\n",
        "\n",
        "  def flatten(self, root):\n",
        "    if(root == None): return\n",
        "    self.flatten(root.right)\n",
        "    self.flatten(root.left)\n",
        "    root.right = self.prev\n",
        "    root.left = None\n",
        "    prev = root\n",
        "\n",
        "\n",
        "\n",
        "\n",
        "if __name__ == \"__main__\":\n",
        "  nodes = [1,2,3,4,5,-1,6]\n",
        "  tree = BinaryTree()\n",
        "  root = tree.buildTree(nodes)\n",
        "  tree.flatten(root)\n",
        "  tree.preorder(root)\n"
      ],
      "metadata": {
        "colab": {
          "base_uri": "https://localhost:8080/"
        },
        "id": "Wi7jGverwJbp",
        "outputId": "0e9ac262-5b8e-40f9-92c8-5bb49c212cdb"
      },
      "execution_count": null,
      "outputs": [
        {
          "output_type": "stream",
          "name": "stdout",
          "text": [
            "1 "
          ]
        }
      ]
    },
    {
      "cell_type": "markdown",
      "source": [
        "Validate BST"
      ],
      "metadata": {
        "id": "520MEWY82qww"
      }
    },
    {
      "cell_type": "code",
      "source": [
        "class Node:\n",
        "  def __init__(self, data):\n",
        "    self.data = data\n",
        "    self.left = None\n",
        "    self.right = None\n",
        "\n",
        "class BinaryTree:\n",
        "  def __init__(self):\n",
        "    self.idx = -1\n",
        "    self.root = None\n",
        "    self.prev = None\n",
        "\n",
        "  def buildTree(self, nodes):\n",
        "    self.idx += 1\n",
        "    if self.idx >= len(nodes) or nodes[self.idx] == -1: return None\n",
        "\n",
        "    newNode = Node(nodes[self.idx])\n",
        "    newNode.left = self.buildTree(nodes)\n",
        "    newNode.right = self.buildTree(nodes)\n",
        "    return newNode\n",
        "\n",
        "  def preorder(self, node):\n",
        "    if node is None:\n",
        "      return\n",
        "    print(node.data, end = \" \")\n",
        "    self.preorder(node.left)\n",
        "    self.preorder(node.right)\n",
        "\n",
        "  def check(self, node, minNode, maxNode):\n",
        "    if(node == None): return True\n",
        "    if((minNode and node.data <= minNode.data) or (maxNode and node.data >= maxNode.data)): return False\n",
        "    return (self.check(node.left, minNode, node) and self.check(node.right, node, maxNode))\n",
        "\n",
        "  def validate(self, node):\n",
        "    return self.check(node, None, None)\n",
        "\n",
        "\n",
        "\n",
        "\n",
        "if __name__ == \"__main__\":\n",
        "  nodes = [1,2,7,4,5,-1,6]\n",
        "  tree = BinaryTree()\n",
        "  root = tree.buildTree(nodes)\n",
        "  print(tree.validate(root))\n",
        ""
      ],
      "metadata": {
        "id": "gnb0I108yeE7",
        "colab": {
          "base_uri": "https://localhost:8080/"
        },
        "outputId": "87a15dba-043e-445b-f49c-866b33701fdb"
      },
      "execution_count": 18,
      "outputs": [
        {
          "output_type": "stream",
          "name": "stdout",
          "text": [
            "False\n"
          ]
        }
      ]
    },
    {
      "cell_type": "markdown",
      "source": [
        "Longest Happy Prefix"
      ],
      "metadata": {
        "id": "s_mxDxLR4nrD"
      }
    },
    {
      "cell_type": "code",
      "source": [
        "def lhp(s):\n",
        "  n = len(s)\n",
        "\n",
        "  if(n == 1): return \"\"\n",
        "  # compute the prefix function using KMP algo\n",
        "  prefix_function = [0]*n\n",
        "  j = 0\n",
        "  for i in range(1, n):\n",
        "    while j>0 and s[i] != s[j]:\n",
        "      j = prefix_function[j-1]\n",
        "\n",
        "    if(s[i] == s[j]):\n",
        "      j += 1\n",
        "\n",
        "    prefix_function[i] = j\n",
        "    length = prefix_function[-1]\n",
        "\n",
        "  return s[:length]\n",
        "\n",
        "s = input(\"Enter a string: \")\n",
        "print(lhp(s))"
      ],
      "metadata": {
        "colab": {
          "base_uri": "https://localhost:8080/"
        },
        "id": "XACo30Kx4m5T",
        "outputId": "0f4e1626-8fed-49bd-b06d-60489f40a210"
      },
      "execution_count": 22,
      "outputs": [
        {
          "output_type": "stream",
          "name": "stdout",
          "text": [
            "Enter a string: def\n",
            "\n"
          ]
        }
      ]
    },
    {
      "cell_type": "markdown",
      "source": [
        "Longest Substring without repeating chars"
      ],
      "metadata": {
        "id": "QIIYWoDoDftK"
      }
    },
    {
      "cell_type": "code",
      "source": [
        "class Solution:\n",
        "    def lengthOfLongestSubstring(self, s: str) -> int:\n",
        "        i, j = 0, 0\n",
        "        mx = 0\n",
        "        mp = {}\n",
        "        for i in range(len(s)):\n",
        "            if s[i] in mp:\n",
        "                j = max(j, mp[s[i]] + 1)\n",
        "            mp[s[i]] = i\n",
        "            mx = max(mx, i - j + 1)\n",
        "        return mx\n",
        "\n",
        "# Example usage:\n",
        "solution = Solution()\n",
        "result = solution.lengthOfLongestSubstring(\"whatisupwithyourguys\")\n",
        "print(result)  # Output: 3\n",
        "\n",
        "\n",
        "class Solution:\n",
        "    def lengthOfLongestSubstring(self, s: str) -> int:\n",
        "        mx = 0\n",
        "        dict = [-1] * 256\n",
        "        start = -1\n",
        "        for i in range(len(s)):\n",
        "            if start < dict[ord(s[i])]:\n",
        "                start = dict[ord(s[i])]\n",
        "            dict[ord(s[i])] = i\n",
        "            mx = max(mx, i - start)\n",
        "        return mx\n",
        "\n",
        "# Example usage:\n",
        "solution = Solution()\n",
        "result = solution.lengthOfLongestSubstring(\"pwwkew\")\n",
        "print(result)  # Output: 3\n"
      ],
      "metadata": {
        "colab": {
          "base_uri": "https://localhost:8080/"
        },
        "id": "naFU9sPUDbtO",
        "outputId": "526a3253-1301-4bc7-d4ab-b7a274c9e5ad"
      },
      "execution_count": 24,
      "outputs": [
        {
          "output_type": "stream",
          "name": "stdout",
          "text": [
            "10\n",
            "3\n"
          ]
        }
      ]
    },
    {
      "cell_type": "code",
      "source": [],
      "metadata": {
        "id": "nN5RPRQiHkD4"
      },
      "execution_count": null,
      "outputs": []
    }
  ]
}