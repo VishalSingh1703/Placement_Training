{
  "nbformat": 4,
  "nbformat_minor": 0,
  "metadata": {
    "colab": {
      "provenance": [],
      "authorship_tag": "ABX9TyMsdJOw8zDEimHtk/cJWtP8",
      "include_colab_link": true
    },
    "kernelspec": {
      "name": "python3",
      "display_name": "Python 3"
    },
    "language_info": {
      "name": "python"
    }
  },
  "cells": [
    {
      "cell_type": "markdown",
      "metadata": {
        "id": "view-in-github",
        "colab_type": "text"
      },
      "source": [
        "<a href=\"https://colab.research.google.com/github/VishalSingh1703/Placement_Training/blob/main/DAY1_Linked_List.ipynb\" target=\"_parent\"><img src=\"https://colab.research.google.com/assets/colab-badge.svg\" alt=\"Open In Colab\"/></a>"
      ]
    },
    {
      "cell_type": "markdown",
      "source": [
        "1. Creating a Linked List"
      ],
      "metadata": {
        "id": "OuoxSbRA4bEL"
      }
    },
    {
      "cell_type": "code",
      "execution_count": 8,
      "metadata": {
        "colab": {
          "base_uri": "https://localhost:8080/"
        },
        "id": "AzZsbt3pjsjJ",
        "outputId": "351fea29-a871-427a-bfbb-52196b85a9f1"
      },
      "outputs": [
        {
          "output_type": "stream",
          "name": "stdout",
          "text": [
            "5 10 20 30 \n"
          ]
        }
      ],
      "source": [
        "# 1. Creating a linked list\n",
        "\n",
        "class Node:\n",
        "  def __init__(self, data):\n",
        "    self.data = data\n",
        "    self.next = None\n",
        "\n",
        "class LinkedList:\n",
        "  def __init__(self): #Fix: Remove the second __init__() method\n",
        "      self.head = None\n",
        "\n",
        "  def insertFirst(self, data):\n",
        "    newNode = Node(data)\n",
        "    newNode.next = self.head #making the new node point to the head\n",
        "    self.head = newNode #making the new node as the new head (basically inserting nodes in the beginnning of the LL)\n",
        "\n",
        "  def insertLast(self, data):\n",
        "    newNode = Node(data)\n",
        "    if(self.head==None):\n",
        "      self.head = newNode\n",
        "      return self.head\n",
        "    temp = self.head\n",
        "    while(temp.next!=None):\n",
        "      temp = temp.next\n",
        "    temp.next = newNode\n",
        "    return self.head\n",
        "\n",
        "  def printList(self):\n",
        "    temp = self.head\n",
        "    while temp:\n",
        "      print(temp.data, end = \" \")\n",
        "      temp = temp.next\n",
        "    print()\n",
        "\n",
        "\n",
        "n = LinkedList()\n",
        "n.insertLast(10)\n",
        "n.insertLast(20)\n",
        "n.insertLast(30)\n",
        "n.insertFirst(5)\n",
        "n.printList()\n"
      ]
    },
    {
      "cell_type": "markdown",
      "source": [
        "2. Merge two sorted Linked List"
      ],
      "metadata": {
        "id": "eIok1TtT4YC8"
      }
    },
    {
      "cell_type": "code",
      "source": [
        "# 2. Merge two sorted linked list\n",
        "\n",
        "class ListNode:\n",
        "  def __init__(self, value = 0, next = None):\n",
        "    self.value = value\n",
        "    self.next = next\n",
        "\n",
        "def merge_sorted_lists(l1, l2):\n",
        "  dummy = ListNode()\n",
        "  current = dummy\n",
        "\n",
        "  while l1 is not None and l2 is not None:\n",
        "    if l1.value<l2.value:\n",
        "      current.next = l1\n",
        "      l1 = l1.next\n",
        "    else:\n",
        "      current.next = l2\n",
        "      l2 = l2.next\n",
        "    current = current.next\n",
        "\n",
        "  if l1 is not None:\n",
        "    current.next = l1\n",
        "  elif l2 is not None:\n",
        "    current.next = l2\n",
        "\n",
        "  return dummy.next\n",
        "\n",
        "def createList(values):\n",
        "  if not values:\n",
        "    return None\n",
        "  head = ListNode(values[0])\n",
        "  current = head\n",
        "  for value in values[1:]:\n",
        "    current.next = ListNode(value)\n",
        "    current = current.next\n",
        "  return head\n",
        "\n",
        "def printList(head):\n",
        "  while head is not None:\n",
        "    print(head.value, end = \" \")\n",
        "    head = head.next\n",
        "  print()\n",
        "\n",
        "\n",
        "list1 = [1, 3, 5, 7]\n",
        "list2 = [2, 4, 6, 8]\n",
        "\n",
        "l1 = createList(list1)\n",
        "l2 = createList(list2)\n",
        "\n",
        "merged = merge_sorted_lists(l1, l2)\n",
        "\n",
        "print(\"Merged List: \", end = \"\")\n",
        "printList(merged)\n",
        "\n",
        "\n"
      ],
      "metadata": {
        "colab": {
          "base_uri": "https://localhost:8080/"
        },
        "id": "zYXqTo9DpESj",
        "outputId": "c725d808-57a3-40de-e43e-37641b40acd9"
      },
      "execution_count": 20,
      "outputs": [
        {
          "output_type": "stream",
          "name": "stdout",
          "text": [
            "Merged List: 1 2 3 4 5 6 7 8 \n"
          ]
        }
      ]
    },
    {
      "cell_type": "markdown",
      "source": [
        "3. Check if Linked List is Palindrome or not"
      ],
      "metadata": {
        "id": "PPuq9ShW4TbH"
      }
    },
    {
      "cell_type": "code",
      "source": [
        "# 3. Check if a Linked List is palindrome or not\n",
        "\n",
        "class Node:\n",
        "  def __init__(self, data):\n",
        "    self.data = data\n",
        "    self.next = None\n",
        "\n",
        "class LinkedList:\n",
        "  def __init__(self): #Fix: Remove the second __init__() method\n",
        "      self.head = None\n",
        "\n",
        "  def insertFirst(self, data):\n",
        "    newNode = Node(data)\n",
        "    newNode.next = self.head #making the new node point to the head\n",
        "    self.head = newNode #making the new node as the new head (basically inserting nodes in the beginnning of the LL)\n",
        "\n",
        "  def insertLast(self, data):\n",
        "    newNode = Node(data)\n",
        "    if(self.head==None):\n",
        "      self.head = newNode\n",
        "      return self.head\n",
        "    temp = self.head\n",
        "    while(temp.next!=None):\n",
        "      temp = temp.next\n",
        "    temp.next = newNode\n",
        "    return self.head\n",
        "\n",
        "  def printList(self):\n",
        "    temp = self.head\n",
        "    while temp:\n",
        "      print(temp.data, end = \" \")\n",
        "      temp = temp.next\n",
        "    print()\n",
        "\n",
        "\n",
        "  def checkPal(self):\n",
        "    middle = self.findMiddle()\n",
        "    second_half = self.reverseLinkedList(middle)\n",
        "\n",
        "    # Compare the first half with the reversed second half\n",
        "    temp = self.head\n",
        "    while second_half is not None:\n",
        "        if temp.data != second_half.data:\n",
        "            return False\n",
        "        temp = temp.next\n",
        "        second_half = second_half.next\n",
        "\n",
        "    return True\n",
        "\n",
        "  def reverseLinkedList(self, head):\n",
        "    prev = None\n",
        "    current = head\n",
        "\n",
        "    while current is not None:\n",
        "        next_node = current.next\n",
        "        current.next = prev\n",
        "        prev = current\n",
        "        current = next_node\n",
        "\n",
        "    return prev\n",
        "\n",
        "\n",
        "  def findMiddle(self):\n",
        "    if self.head is None or self.head.next is None:\n",
        "      return self.head\n",
        "\n",
        "    slow = fast = self.head\n",
        "    fast = fast.next.next\n",
        "    while fast and fast.next:\n",
        "      slow = slow.next\n",
        "      fast = fast.next.next\n",
        "\n",
        "    return slow.next\n",
        "\n",
        "\n",
        "  # def checkPal(self):\n",
        "  #   middle = self.findMiddle()\n",
        "  #   arr = []\n",
        "  #   while middle is not None:\n",
        "  #     arr.append(middle.data)\n",
        "  #     middle = middle.next\n",
        "  #   temp = self.head\n",
        "  #   i = len(arr) - 1\n",
        "  #   while temp is not None:\n",
        "  #     if temp.data != arr[i]:\n",
        "  #       return False\n",
        "  #     temp = temp.next\n",
        "  #     i -= 1\n",
        "  #   return True\n",
        "\n",
        "n = LinkedList()\n",
        "n.insertLast(10)\n",
        "n.insertLast(20)\n",
        "# n.insertLast(30)\n",
        "# n.insertLast(20)\n",
        "n.insertLast(30)\n",
        "# n.insertFirst(5)\n",
        "# print(n.findMiddle())\n",
        "print(n.checkPal())\n",
        "# n.printList()\n"
      ],
      "metadata": {
        "colab": {
          "base_uri": "https://localhost:8080/"
        },
        "id": "sfgWjoVJtNeF",
        "outputId": "b0443e13-7338-483d-b17d-ed054e319d0c"
      },
      "execution_count": 44,
      "outputs": [
        {
          "output_type": "stream",
          "name": "stdout",
          "text": [
            "False\n"
          ]
        }
      ]
    },
    {
      "cell_type": "markdown",
      "source": [
        "4. Rotating a Linked List"
      ],
      "metadata": {
        "id": "BTPzu-pM4Qdj"
      }
    },
    {
      "cell_type": "code",
      "source": [
        "# 4. Rotating a Linked List\n",
        "\n",
        "class Node:\n",
        "  def __init__(self, data):\n",
        "    self.data = data\n",
        "    self.next = None\n",
        "\n",
        "class LinkedList:\n",
        "  def __init__(self): #Fix: Remove the second __init__() method\n",
        "      self.head = None\n",
        "\n",
        "  def insertFirst(self, data):\n",
        "    newNode = Node(data)\n",
        "    newNode.next = self.head #making the new node point to the head\n",
        "    self.head = newNode #making the new node as the new head (basically inserting nodes in the beginnning of the LL)\n",
        "\n",
        "  def insertLast(self, data):\n",
        "    newNode = Node(data)\n",
        "    if(self.head==None):\n",
        "      self.head = newNode\n",
        "      return self.head\n",
        "    temp = self.head\n",
        "    while(temp.next!=None):\n",
        "      temp = temp.next\n",
        "    temp.next = newNode\n",
        "    return self.head\n",
        "\n",
        "  def printList(self):\n",
        "    temp = self.head\n",
        "    while temp:\n",
        "      print(temp.data, end = \" \")\n",
        "      temp = temp.next\n",
        "    print()\n",
        "\n",
        "\n",
        "  def rotate(self, k):\n",
        "    if self.head is not None and k == 0:\n",
        "      return\n",
        "\n",
        "    length = 1\n",
        "    temp = self.head\n",
        "    while temp.next is not None:\n",
        "      temp = temp.next\n",
        "      length += 1\n",
        "\n",
        "    k = k % length\n",
        "    if k == 0:\n",
        "      return\n",
        "\n",
        "    temp = self.head\n",
        "    for _ in range(length - k - 1):\n",
        "        temp = temp.next\n",
        "\n",
        "    new_head = temp.next\n",
        "    temp.next = None\n",
        "    temp = new_head\n",
        "    while temp.next is not None:\n",
        "        temp = temp.next\n",
        "    temp.next = self.head\n",
        "    self.head = new_head\n",
        "\n",
        "n = LinkedList()\n",
        "n.insertLast(10)\n",
        "n.insertLast(20)\n",
        "n.insertLast(30)\n",
        "n.insertFirst(5)\n",
        "n.printList()\n",
        "n.rotate(11)\n",
        "n.printList()\n",
        "\n"
      ],
      "metadata": {
        "colab": {
          "base_uri": "https://localhost:8080/"
        },
        "id": "JKDgf4eC0xRE",
        "outputId": "338a05c0-e2bf-4bfb-e92f-4997fae4fa4d"
      },
      "execution_count": 54,
      "outputs": [
        {
          "output_type": "stream",
          "name": "stdout",
          "text": [
            "5 10 20 30 \n",
            "10 20 30 5 \n"
          ]
        }
      ]
    },
    {
      "cell_type": "markdown",
      "source": [
        "5. Reverse K elements of a Linked List"
      ],
      "metadata": {
        "id": "nTk44yRF4KVX"
      }
    },
    {
      "cell_type": "code",
      "source": [
        "# 1. Creating a linked list\n",
        "\n",
        "class Node:\n",
        "  def __init__(self, data):\n",
        "    self.data = data\n",
        "    self.next = None\n",
        "\n",
        "class LinkedList:\n",
        "  def __init__(self): #Fix: Remove the second __init__() method\n",
        "      self.head = None\n",
        "\n",
        "  def insertFirst(self, data):\n",
        "    newNode = Node(data)\n",
        "    newNode.next = self.head #making the new node point to the head\n",
        "    self.head = newNode #making the new node as the new head (basically inserting nodes in the beginnning of the LL)\n",
        "\n",
        "  def insertLast(self, data):\n",
        "    newNode = Node(data)\n",
        "    if(self.head==None):\n",
        "      self.head = newNode\n",
        "      return self.head\n",
        "    temp = self.head\n",
        "    while(temp.next!=None):\n",
        "      temp = temp.next\n",
        "    temp.next = newNode\n",
        "    return self.head\n",
        "\n",
        "  def printList(self):\n",
        "    temp = self.head\n",
        "    while temp:\n",
        "      print(temp.data, end = \" \")\n",
        "      temp = temp.next\n",
        "    print()\n",
        "\n",
        "  def reverseKelements(self, k):\n",
        "        prev = None\n",
        "        current = self.head\n",
        "        count = 0\n",
        "\n",
        "        # Find the length of the linked list\n",
        "        temp = self.head\n",
        "        while temp is not None:\n",
        "            count += 1\n",
        "            temp = temp.next\n",
        "\n",
        "        if k > count:\n",
        "            return  # Do nothing if k is greater than the length of the list\n",
        "\n",
        "        # Reverse the first k elements\n",
        "        temp_head = self.reverseKelementsHelper(self.head, k)\n",
        "\n",
        "        # Update the head of the list\n",
        "        self.head = temp_head\n",
        "\n",
        "  def reverseKelementsHelper(self, head, k):\n",
        "      prev = None\n",
        "      current = head\n",
        "      count = 0\n",
        "\n",
        "      # Reverse the first k elements\n",
        "      while current is not None and count < k:\n",
        "          next_node = current.next\n",
        "          current.next = prev\n",
        "          prev = current\n",
        "          current = next_node\n",
        "          count += 1\n",
        "\n",
        "      # Connect the reversed part with the remaining list\n",
        "      if current is not None:\n",
        "          head.next = self.reverseKelementsHelper(current, k)\n",
        "\n",
        "      return prev\n",
        "\n",
        "\n",
        "n = LinkedList()\n",
        "n.insertLast(10)\n",
        "n.insertLast(20)\n",
        "n.insertLast(30)\n",
        "n.insertFirst(5)\n",
        "n.reverseKelements(2)\n",
        "n.printList()\n"
      ],
      "metadata": {
        "colab": {
          "base_uri": "https://localhost:8080/"
        },
        "id": "nb8KjfAg33xp",
        "outputId": "0d67397f-964e-47ce-e184-2a2388dacd0b"
      },
      "execution_count": 60,
      "outputs": [
        {
          "output_type": "stream",
          "name": "stdout",
          "text": [
            "10 5 30 20 \n"
          ]
        }
      ]
    },
    {
      "cell_type": "markdown",
      "source": [
        "6. Seggregate Even and Odd elements in LL"
      ],
      "metadata": {
        "id": "rIsmtQ-06StA"
      }
    },
    {
      "cell_type": "code",
      "source": [
        "# 1. Creating a linked list\n",
        "\n",
        "class Node:\n",
        "  def __init__(self, data):\n",
        "    self.data = data\n",
        "    self.next = None\n",
        "\n",
        "class LinkedList:\n",
        "  def __init__(self): #Fix: Remove the second __init__() method\n",
        "      self.head = None\n",
        "\n",
        "  def insertFirst(self, data):\n",
        "    newNode = Node(data)\n",
        "    newNode.next = self.head #making the new node point to the head\n",
        "    self.head = newNode #making the new node as the new head (basically inserting nodes in the beginnning of the LL)\n",
        "\n",
        "  def insertLast(self, data):\n",
        "    newNode = Node(data)\n",
        "    if(self.head==None):\n",
        "      self.head = newNode\n",
        "      return self.head\n",
        "    temp = self.head\n",
        "    while(temp.next!=None):\n",
        "      temp = temp.next\n",
        "    temp.next = newNode\n",
        "    return self.head\n",
        "\n",
        "  def seggregate(self):\n",
        "    temp = self.head\n",
        "\n",
        "    self.even = None\n",
        "    self.odd = None\n",
        "\n",
        "    while temp is not None:\n",
        "      if(temp.data % 2 == 0):\n",
        "        if self.even is None:\n",
        "          self.even = temp\n",
        "          self.even_tail = temp\n",
        "        else:\n",
        "          self.even_tail.next = temp\n",
        "          self.even_tail = temp\n",
        "\n",
        "      else:\n",
        "          if self.odd is None:\n",
        "            self.odd = temp\n",
        "            self.odd_tail = temp\n",
        "          else:\n",
        "            self.odd_tail.next = temp\n",
        "            self.odd_tail = temp\n",
        "      temp = temp.next\n",
        "\n",
        "    if self.even is not None:\n",
        "        self.even_tail.next = self.odd\n",
        "        self.head = self.even\n",
        "    else:\n",
        "        self.head = self.odd\n",
        "\n",
        "    if self.odd_tail is not None:\n",
        "        self.odd_tail.next = None\n",
        "\n",
        "  def printList(self):\n",
        "    temp = self.head\n",
        "    while temp:\n",
        "      print(temp.data, end = \" \")\n",
        "      temp = temp.next\n",
        "    print()\n",
        "\n",
        "\n",
        "n = LinkedList()\n",
        "n.insertFirst(5)\n",
        "n.insertLast(1)\n",
        "n.insertLast(2)\n",
        "n.insertLast(3)\n",
        "n.insertLast(4)\n",
        "n.insertLast(6)\n",
        "n.printList()\n",
        "n.seggregate()\n",
        "n.printList()"
      ],
      "metadata": {
        "colab": {
          "base_uri": "https://localhost:8080/"
        },
        "id": "K0j3Oqgv6RRp",
        "outputId": "eeb423d4-acba-4b63-b12a-b655ddff2d93"
      },
      "execution_count": 63,
      "outputs": [
        {
          "output_type": "stream",
          "name": "stdout",
          "text": [
            "5 1 2 3 4 6 \n",
            "2 4 6 5 1 3 \n"
          ]
        }
      ]
    },
    {
      "cell_type": "markdown",
      "source": [
        "7. Longest Palindromic Substring"
      ],
      "metadata": {
        "id": "bTEyhfxE9sW3"
      }
    },
    {
      "cell_type": "code",
      "source": [
        "def checkPal(s):\n",
        "  n = len(s)\n",
        "  dp = []\n",
        "\n",
        "  for i in range(n):\n",
        "    row = []\n",
        "    for j in range(n):\n",
        "      row.append(False)\n",
        "    dp.append(row)\n",
        "\n",
        "  for i in range(n):\n",
        "    dp[i][i] = True\n",
        "\n",
        "  start, maxLen = 0, 1\n",
        "  for i in range(n-1):\n",
        "    if s[i] == s[i+1]:\n",
        "      dp[i][i+1] = True\n",
        "      start = i\n",
        "      maxLen = 2\n",
        "\n",
        "  for length in range(3, n + 1):\n",
        "    for i in range(0, n - length + 1):\n",
        "      j = i + length - 1\n",
        "      if(dp[i+1][j-1] and s[i] == s[j]):\n",
        "        dp[i][j] = True\n",
        "        start = i\n",
        "        maxLen = length\n",
        "\n",
        "  return s[start : start + maxLen]\n",
        "\n",
        "print(checkPal(\"bababaaaaaaababab\"))\n"
      ],
      "metadata": {
        "colab": {
          "base_uri": "https://localhost:8080/"
        },
        "id": "VNEiAPLd9qqK",
        "outputId": "a126c538-2d50-4e44-d794-2c77c14b5227"
      },
      "execution_count": 68,
      "outputs": [
        {
          "output_type": "stream",
          "name": "stdout",
          "text": [
            "bababaaaaaaababab\n"
          ]
        }
      ]
    }
  ]
}