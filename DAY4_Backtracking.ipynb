{
  "nbformat": 4,
  "nbformat_minor": 0,
  "metadata": {
    "colab": {
      "provenance": [],
      "authorship_tag": "ABX9TyOirYax4bSW7QlgN6X4K89g",
      "include_colab_link": true
    },
    "kernelspec": {
      "name": "python3",
      "display_name": "Python 3"
    },
    "language_info": {
      "name": "python"
    }
  },
  "cells": [
    {
      "cell_type": "markdown",
      "metadata": {
        "id": "view-in-github",
        "colab_type": "text"
      },
      "source": [
        "<a href=\"https://colab.research.google.com/github/VishalSingh1703/Placement_Training/blob/main/DAY4_Backtracking.ipynb\" target=\"_parent\"><img src=\"https://colab.research.google.com/assets/colab-badge.svg\" alt=\"Open In Colab\"/></a>"
      ]
    },
    {
      "cell_type": "markdown",
      "source": [],
      "metadata": {
        "id": "LvlU5MzCAvH0"
      }
    },
    {
      "cell_type": "markdown",
      "source": [
        "Generate Parenthesis"
      ],
      "metadata": {
        "id": "DTRdr1TTBLLq"
      }
    },
    {
      "cell_type": "code",
      "execution_count": 14,
      "metadata": {
        "colab": {
          "base_uri": "https://localhost:8080/"
        },
        "id": "uNrDDPsN_5IH",
        "outputId": "d9898156-ad4f-40a8-cd34-33a9341d4f5f"
      },
      "outputs": [
        {
          "output_type": "stream",
          "name": "stdout",
          "text": [
            "Enter a number: 3\n",
            "The generated parenthesis are: ['((()))', '(()())', '(())()', '()(())', '()()()']\n"
          ]
        }
      ],
      "source": [
        "def permute(open, close, s, ans):\n",
        "  if open == 0 and close == 0: ans.append(s)\n",
        "  if open > 0:  permute(open-1, close, s + '(', ans)\n",
        "  if close > 0 and close > open: permute(open, close - 1, s + ')', ans)\n",
        "\n",
        "\n",
        "def generate(n):\n",
        "  ans = []\n",
        "  s = \"\"\n",
        "  permute(n, n, s, ans)\n",
        "  return ans\n",
        "\n",
        "n = int(input(\"Enter a number: \"))\n",
        "ans = generate(n)\n",
        "print(\"The generated parenthesis are: \" + str(ans))"
      ]
    },
    {
      "cell_type": "markdown",
      "source": [
        "Permutations of a String"
      ],
      "metadata": {
        "id": "MgvgouOpLcbV"
      }
    },
    {
      "cell_type": "code",
      "source": [
        "# def swap(s, a, b):\n",
        "#   temp = s[a]\n",
        "#   s[a] = s[b]\n",
        "#   s[b] = temp\n",
        "\n",
        "def permute(idx, s, ans):\n",
        "  if (idx == len(s)):\n",
        "    ans.append(''.join(s))\n",
        "    return\n",
        "  for i in range(idx, len(s)):\n",
        "    # swap(s, i, idx)\n",
        "    s[i], s[idx] = s[idx], s[i]\n",
        "    permute(idx + 1, s, ans)\n",
        "    s[i], s[idx] = s[idx], s[i]\n",
        "    # swap(s, i, idx)\n",
        "\n",
        "s = input(\"Enter a string: \")\n",
        "ans = []\n",
        "permute(0, list(s), ans)\n",
        "print(ans)"
      ],
      "metadata": {
        "colab": {
          "base_uri": "https://localhost:8080/"
        },
        "id": "QDF-hvq5DkbX",
        "outputId": "5f6cef88-ed91-4d6e-9976-19852920ce40"
      },
      "execution_count": 22,
      "outputs": [
        {
          "output_type": "stream",
          "name": "stdout",
          "text": [
            "Enter a string: ABC\n",
            "['ABC', 'ACB', 'BAC', 'BCA', 'CBA', 'CAB']\n"
          ]
        }
      ]
    },
    {
      "cell_type": "markdown",
      "source": [
        "Spiral Matrix"
      ],
      "metadata": {
        "id": "3YPKdy-0TkJ3"
      }
    },
    {
      "cell_type": "code",
      "source": [
        "import numpy as np\n",
        "\n",
        "def spiral(mat):\n",
        "  l, r = 0, len(mat[0])\n",
        "  t, b= 0, len(mat)\n",
        "  ans = []\n",
        "  while(l<r and t<b):\n",
        "    for x in range(l, r):\n",
        "      ans.append(mat[t][x])\n",
        "    t += 1\n",
        "\n",
        "    for y in range(t, b):\n",
        "      ans.append(mat[y][r - 1])\n",
        "    r -= 1\n",
        "\n",
        "    if(t >= b or l >= b): break\n",
        "\n",
        "    if t<b:\n",
        "      for x in range(r - 1, l - 1, -1):\n",
        "        ans.append(mat[b - 1][x])\n",
        "      b -= 1\n",
        "\n",
        "    if l<r:\n",
        "      for y in range(b - 1, t - 1, -1):\n",
        "        ans.append(mat[y][l])\n",
        "      l += 1\n",
        "\n",
        "  return ans\n",
        "\n",
        "# n = int(input(\"Enter the dimension of the matrix: \"))\n",
        "# mat = []\n",
        "\n",
        "# for i in range(n):\n",
        "#     row = []\n",
        "#     for j in range(n):\n",
        "#         element = int(input(f\"Enter the element at position ({i + 1}, {j + 1}): \"))\n",
        "#         row.append(element)\n",
        "#     mat.append(row)\n",
        "\n",
        "mat = np.array([\n",
        "    [1, 2, 3],\n",
        "    [4, 5, 6],\n",
        "    [7, 8, 9]\n",
        "])\n",
        "\n",
        "for row in mat:\n",
        "    print(row)\n",
        "\n",
        "ans = spiral(mat)\n",
        "print(ans)\n"
      ],
      "metadata": {
        "colab": {
          "base_uri": "https://localhost:8080/"
        },
        "id": "t-VOxt12Tjg-",
        "outputId": "c5794262-03b6-4b7d-d60d-c12b11978f14"
      },
      "execution_count": 36,
      "outputs": [
        {
          "output_type": "stream",
          "name": "stdout",
          "text": [
            "[1 2 3]\n",
            "[4 5 6]\n",
            "[7 8 9]\n",
            "[1, 2, 3, 6, 9, 8, 7, 4, 5]\n"
          ]
        }
      ]
    },
    {
      "cell_type": "code",
      "source": [
        "class Solution:\n",
        "  def __init__(self):\n",
        "    self.delRow = [1, -1, 0, 0]\n",
        "    self.delCol = [0, 0, -1, 1]\n",
        "\n",
        "  def numIsands(self, grid):\n",
        "    island = 0\n",
        "    n = len(grid)\n",
        "    m = len(grid[0])\n",
        "    vis = [[0] * m for _ in range(n)]\n",
        "\n",
        "    for i in range(n):\n",
        "      for j in range(m):\n",
        "        if grid[i][j] == 1 and vis[i][j] == 0:\n",
        "          island += 1\n",
        "          self.dfs(grid, vis, n, m, i, j)\n",
        "    return island\n",
        "\n",
        "  def dfs(self, grid, vis, n, m, row, col):\n",
        "    if row < 0 or row >= n or col < 0 or col >= m or vis[row][col] == 1:\n",
        "      return\n",
        "\n",
        "    vis[row][col] = 1\n",
        "\n",
        "    for i in range(4):\n",
        "      nRow = row + self.delRow[i]\n",
        "      nCol = col + self.delCol[i]\n",
        "\n",
        "      if 0 <= nRow < n and 0 <= nCol < m and grid[nRow][nCol] == 1 and vis[nRow][nCol] == 0:\n",
        "        self.dfs(grid, vis, n, m, nRow, nCol)\n",
        "\n",
        "\n",
        "sol = Solution()\n",
        "grid = [\n",
        "    [1, 1, 1, 1, 0],\n",
        "    [1, 1, 0, 1, 0],\n",
        "    [1, 1, 0, 0, 0],\n",
        "    [0, 0, 0, 0, 1]\n",
        "]\n",
        "res = sol.numIsands(grid)\n",
        "print(res)"
      ],
      "metadata": {
        "colab": {
          "base_uri": "https://localhost:8080/"
        },
        "id": "eCXVMqnMeyvT",
        "outputId": "7e397f81-ce81-4611-fec5-edc09e866def"
      },
      "execution_count": 6,
      "outputs": [
        {
          "output_type": "stream",
          "name": "stdout",
          "text": [
            "2\n"
          ]
        }
      ]
    }
  ]
}